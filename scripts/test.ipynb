{
 "cells": [
  {
   "cell_type": "code",
   "execution_count": 5,
   "source": [
    "import psycopg2\r\n",
    "from psycopg2 import sql\r\n",
    "from psycopg2.extensions import ISOLATION_LEVEL_AUTOCOMMIT \r\n",
    "import os\r\n",
    "\r\n",
    "dbname='CC'\r\n",
    "user='postgres'\r\n",
    "password='admin'\r\n",
    "host='localhost'\r\n",
    "initialize_connecconnection_commandtion_command = \"dbname='\" + dbname + \"' user='\" + user + \"' host='\" + host + \"' password='\" + password + \"'\"\r\n"
   ],
   "outputs": [],
   "metadata": {}
  },
  {
   "cell_type": "code",
   "execution_count": 6,
   "source": [
    "try:     \r\n",
    "    rows = []\r\n",
    "    conn = psycopg2.connect(initialize_connecconnection_commandtion_command)\r\n",
    "    conn.set_isolation_level(ISOLATION_LEVEL_AUTOCOMMIT)\r\n",
    "    cur = conn.cursor()\r\n",
    "\r\n",
    "    try:\r\n",
    "        cur.execute(\"SELECT * FROM merchants LIMIT 10;\")\r\n",
    "        conn.commit()\r\n",
    "            \r\n",
    "        rows.append(cur.fetchall())\r\n",
    "    except psycopg2.Error as errorMsg:\r\n",
    "        print(errorMsg)        \r\n",
    "        conn.rollback()\r\n",
    "    for index, row in enumerate(rows):\r\n",
    "        print(index, \"\\t\", row)\r\n",
    "        \r\n",
    "except Exception as error:\r\n",
    "    print(\"Database query error: \", error)\r\n",
    "    print(\"Exception TYPE:\", type(error))"
   ],
   "outputs": [
    {
     "output_type": "stream",
     "name": "stdout",
     "text": [
      "0 \t [('88-1479529', 'Walsh, Olson and Mertz', 'Indonesia'), ('91-3366138', \"Aufderhar-O'Hara\", 'Thailand'), ('17-7438780', 'Grady-Berge', 'Indonesia'), ('12-4266726', 'Graham LLC', 'Malaysia'), ('50-9541874', 'Bartoletti-Wilderman', 'Indonesia'), ('09-4595813', 'Macejkovic Group', 'Indonesia'), ('50-0741111', 'Feil, Leannon and Lesch', 'Indonesia'), ('42-9416123', 'Halvorson, Rowe and Huel', 'Indonesia'), ('11-3246709', 'Lueilwitz-Kemmer', 'Indonesia'), ('20-5111076', 'Ondricka-McLaughlin', 'Indonesia')]\n"
     ]
    }
   ],
   "metadata": {}
  }
 ],
 "metadata": {
  "orig_nbformat": 4,
  "language_info": {
   "name": "python",
   "version": "3.7.8",
   "mimetype": "text/x-python",
   "codemirror_mode": {
    "name": "ipython",
    "version": 3
   },
   "pygments_lexer": "ipython3",
   "nbconvert_exporter": "python",
   "file_extension": ".py"
  },
  "kernelspec": {
   "name": "python3",
   "display_name": "Python 3.7.8 64-bit"
  },
  "interpreter": {
   "hash": "74aa8ac08071e1a9247bba748249d0b2f8114744748deb657f7bff8579c5312d"
  }
 },
 "nbformat": 4,
 "nbformat_minor": 2
}